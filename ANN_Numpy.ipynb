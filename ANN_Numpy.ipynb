{
 "cells": [
  {
   "cell_type": "code",
   "execution_count": 1,
   "id": "3b5544cd",
   "metadata": {},
   "outputs": [],
   "source": [
    "import numpy as np\n",
    "import pandas as pd\n",
    "import random"
   ]
  },
  {
   "cell_type": "code",
   "execution_count": 2,
   "id": "b83a35fe",
   "metadata": {},
   "outputs": [
    {
     "data": {
      "text/html": [
       "<div>\n",
       "<style scoped>\n",
       "    .dataframe tbody tr th:only-of-type {\n",
       "        vertical-align: middle;\n",
       "    }\n",
       "\n",
       "    .dataframe tbody tr th {\n",
       "        vertical-align: top;\n",
       "    }\n",
       "\n",
       "    .dataframe thead th {\n",
       "        text-align: right;\n",
       "    }\n",
       "</style>\n",
       "<table border=\"1\" class=\"dataframe\">\n",
       "  <thead>\n",
       "    <tr style=\"text-align: right;\">\n",
       "      <th></th>\n",
       "      <th>5.1</th>\n",
       "      <th>3.5</th>\n",
       "      <th>1.4</th>\n",
       "      <th>0.2</th>\n",
       "      <th>Iris-setosa</th>\n",
       "    </tr>\n",
       "  </thead>\n",
       "  <tbody>\n",
       "    <tr>\n",
       "      <th>0</th>\n",
       "      <td>4.9</td>\n",
       "      <td>3.0</td>\n",
       "      <td>1.4</td>\n",
       "      <td>0.2</td>\n",
       "      <td>Iris-setosa</td>\n",
       "    </tr>\n",
       "    <tr>\n",
       "      <th>1</th>\n",
       "      <td>4.7</td>\n",
       "      <td>3.2</td>\n",
       "      <td>1.3</td>\n",
       "      <td>0.2</td>\n",
       "      <td>Iris-setosa</td>\n",
       "    </tr>\n",
       "    <tr>\n",
       "      <th>2</th>\n",
       "      <td>4.6</td>\n",
       "      <td>3.1</td>\n",
       "      <td>1.5</td>\n",
       "      <td>0.2</td>\n",
       "      <td>Iris-setosa</td>\n",
       "    </tr>\n",
       "    <tr>\n",
       "      <th>3</th>\n",
       "      <td>5.0</td>\n",
       "      <td>3.6</td>\n",
       "      <td>1.4</td>\n",
       "      <td>0.2</td>\n",
       "      <td>Iris-setosa</td>\n",
       "    </tr>\n",
       "    <tr>\n",
       "      <th>4</th>\n",
       "      <td>5.4</td>\n",
       "      <td>3.9</td>\n",
       "      <td>1.7</td>\n",
       "      <td>0.4</td>\n",
       "      <td>Iris-setosa</td>\n",
       "    </tr>\n",
       "  </tbody>\n",
       "</table>\n",
       "</div>"
      ],
      "text/plain": [
       "   5.1  3.5  1.4  0.2  Iris-setosa\n",
       "0  4.9  3.0  1.4  0.2  Iris-setosa\n",
       "1  4.7  3.2  1.3  0.2  Iris-setosa\n",
       "2  4.6  3.1  1.5  0.2  Iris-setosa\n",
       "3  5.0  3.6  1.4  0.2  Iris-setosa\n",
       "4  5.4  3.9  1.7  0.4  Iris-setosa"
      ]
     },
     "execution_count": 2,
     "metadata": {},
     "output_type": "execute_result"
    }
   ],
   "source": [
    "df=pd.read_csv(\"iris.data.csv\")\n",
    "df.head()"
   ]
  },
  {
   "cell_type": "code",
   "execution_count": 3,
   "id": "798c75c7",
   "metadata": {},
   "outputs": [],
   "source": [
    "df=df.rename(columns={'5.1': \"Sepal.Length\", '3.5': \"Sepal.Width\",'1.4':\"Petal.Length\",'0.2':\"Petal.Width\",\"Iris-setosa\":\"Species\"})"
   ]
  },
  {
   "cell_type": "code",
   "execution_count": 4,
   "id": "e7250bd6",
   "metadata": {},
   "outputs": [
    {
     "data": {
      "text/plain": [
       "Iris-versicolor    50\n",
       "Iris-virginica     50\n",
       "Iris-setosa        49\n",
       "Name: Species, dtype: int64"
      ]
     },
     "execution_count": 4,
     "metadata": {},
     "output_type": "execute_result"
    }
   ],
   "source": [
    "df['Species'].value_counts()"
   ]
  },
  {
   "cell_type": "code",
   "execution_count": 5,
   "id": "6e37672b",
   "metadata": {},
   "outputs": [],
   "source": [
    "df['Species']=df['Species'].replace(\"Iris-versicolor\",0).replace('Iris-virginica',1).replace(\"Iris-setosa\",2)"
   ]
  },
  {
   "cell_type": "code",
   "execution_count": 6,
   "id": "fe561b66",
   "metadata": {},
   "outputs": [
    {
     "data": {
      "text/plain": [
       "(149, 4)"
      ]
     },
     "execution_count": 6,
     "metadata": {},
     "output_type": "execute_result"
    }
   ],
   "source": [
    "from sklearn.preprocessing import StandardScaler\n",
    "sc=StandardScaler()\n",
    "scale_data=sc.fit_transform(df[['Sepal.Length','Sepal.Width','Petal.Length','Petal.Width']])\n",
    "scale_data.shape"
   ]
  },
  {
   "cell_type": "code",
   "execution_count": 7,
   "id": "0b990c88",
   "metadata": {},
   "outputs": [],
   "source": [
    "x=scale_data\n",
    "y=df['Species']\n",
    "from sklearn.model_selection import train_test_split\n",
    "x_train,x_test,y_train,y_test=train_test_split(x,y,random_state=1,train_size=0.8)"
   ]
  },
  {
   "cell_type": "code",
   "execution_count": null,
   "id": "6170584b",
   "metadata": {},
   "outputs": [],
   "source": []
  },
  {
   "cell_type": "code",
   "execution_count": 8,
   "id": "6529a072",
   "metadata": {},
   "outputs": [],
   "source": [
    "x_train[:,0].shape\n",
    "x_train=x_train.T\n",
    "x_test=x_test.T"
   ]
  },
  {
   "cell_type": "code",
   "execution_count": 9,
   "id": "b9461916",
   "metadata": {},
   "outputs": [],
   "source": [
    "def softmax(z):\n",
    "    return np.exp(z)/np.sum(np.exp(z))\n",
    "\n",
    "def sigmoid(x):\n",
    "    return 1 / (1 + np.exp(-x))\n",
    "\n",
    "def ReLU(z):\n",
    "    return np.maximum(0.0,z)\n",
    "\n",
    "def ReLU_deriv(Z):\n",
    "    return Z > 0\n",
    "\n",
    "def tanh(x):\n",
    "    return np.tanh(x)\n",
    "\n",
    "def tanh_derivative(x):\n",
    "    return 1 - np.tanh(x)**2\n",
    "\n",
    "def leaky_relu(x, alpha=0.1):\n",
    "    return np.maximum(alpha * x, x)\n",
    "\n",
    "def leaky_relu_derivative(x, alpha=0.1):\n",
    "    return np.where(x > 0, 1, alpha)\n",
    "\n",
    "def one_hot(Y):\n",
    "    one_hot_Y = np.zeros((Y.size, Y.max() + 1))\n",
    "    one_hot_Y[np.arange(Y.size), Y] = 1\n",
    "    one_hot_Y = one_hot_Y.T\n",
    "    return one_hot_Y"
   ]
  },
  {
   "cell_type": "code",
   "execution_count": 10,
   "id": "3661a00a",
   "metadata": {},
   "outputs": [],
   "source": [
    "def weight_params():\n",
    "    w1=np.random.rand(4,4)-0.5\n",
    "    b1=np.random.rand(4,1)-0.5\n",
    "    w2=np.random.rand(3,4)-0.5\n",
    "    b2=np.random.rand(3,1)-0.5\n",
    "    return w1,b1,w2,b2"
   ]
  },
  {
   "cell_type": "code",
   "execution_count": 11,
   "id": "6b5b5b4a",
   "metadata": {},
   "outputs": [],
   "source": [
    "def for_prop(w1,b1,w2,b2,xx,j):\n",
    "    z1=w1.dot(xx)+b1\n",
    "    A1=j(z1)\n",
    "    z2=w2.dot(A1)+b2\n",
    "    A2=softmax(z2)\n",
    "    return z1,A1,z2,A2"
   ]
  },
  {
   "cell_type": "code",
   "execution_count": 12,
   "id": "c43195c5",
   "metadata": {},
   "outputs": [],
   "source": [
    "def back_prop(Z1, A1, Z2, A2, W1, W2, X, Y,k):\n",
    "    m=y_train.size\n",
    "    one_hot_Y = one_hot(Y)\n",
    "    dZ2 = A2 - one_hot_Y\n",
    "    dW2 = 1 / m * dZ2.dot(A1.T)\n",
    "    db2 = 1 / m * np.sum(dZ2)\n",
    "    dZ1 = np.dot(W2.T,dZ2) * k(Z1)    \n",
    "    \n",
    "    dW1 = 1 / m * dZ1.dot(X.T)\n",
    "    db1 = 1 / m * np.sum(dZ1)\n",
    "    return dW1, db1, dW2, db2"
   ]
  },
  {
   "cell_type": "code",
   "execution_count": 13,
   "id": "9b324859",
   "metadata": {},
   "outputs": [],
   "source": [
    "def update_params(W1, b1, W2, b2, dW1, db1, dW2, db2, learning_rate):\n",
    "    W1 = W1 - learning_rate * dW1\n",
    "    b1 = b1 - learning_rate * db1    \n",
    "    W2 = W2 - learning_rate * dW2  \n",
    "    b2 = b2 - learning_rate * db2    \n",
    "    return W1, b1, W2, b2\n",
    "\n",
    "def get_predictions(A2):\n",
    "    return np.argmax(A2, 0)\n",
    "\n",
    "def get_accuracy(predictions, Y):\n",
    "    #print(predictions, Y)\n",
    "    return np.sum(predictions == Y) / Y.size"
   ]
  },
  {
   "cell_type": "code",
   "execution_count": 14,
   "id": "9d96a12d",
   "metadata": {},
   "outputs": [],
   "source": [
    "def grad_desc(X, Y, alpha, iterations):\n",
    "    W1, b1, W2, b2 = weight_params()\n",
    "    act_list=[tanh,leaky_relu,ReLU]\n",
    "    act_der=[tanh_derivative,leaky_relu_derivative,ReLU_deriv]\n",
    "    best=[]\n",
    "    iteration=[]\n",
    "    act=[]\n",
    "    for j,k in zip(act_list,act_der):\n",
    "        \n",
    "        for i in range(iterations):\n",
    "            Z1, A1, Z2, A2 = for_prop(W1, b1, W2, b2, X,j)\n",
    "            dW1, db1, dW2, db2 = back_prop(Z1, A1, Z2, A2, W1, W2, X, Y,k)\n",
    "            W1, b1, W2, b2 = update_params(W1, b1, W2, b2, dW1, db1, dW2, db2, alpha)\n",
    "            if i % 10 == 0:\n",
    "                predictions = get_predictions(A2)\n",
    "                res=get_accuracy(predictions, Y)\n",
    "                #print(res)\n",
    "                best.append(float(res))\n",
    "                iteration.append(i)\n",
    "                act.append(j)\n",
    "                \n",
    "    var=max(best)\n",
    "    for i,j,k in zip(best,iteration,act):\n",
    "        k=((str(k))[10:-22])\n",
    "        if i==var:\n",
    "            print('max_accuracy :',i,\"iteration_\",j,\"act :\",k)\n",
    "        \n",
    "    return W1, b1, W2, b2 "
   ]
  },
  {
   "cell_type": "code",
   "execution_count": 15,
   "id": "491e0327",
   "metadata": {},
   "outputs": [
    {
     "name": "stdout",
     "output_type": "stream",
     "text": [
      "max_accuracy : 0.7478991596638656 iteration_ 90 act : tanh \n"
     ]
    }
   ],
   "source": [
    "W1, b1, W2, b2 =grad_desc(x_train, y_train, 0.01, 100)"
   ]
  },
  {
   "cell_type": "code",
   "execution_count": 16,
   "id": "13a7e859",
   "metadata": {},
   "outputs": [],
   "source": [
    "def for_prop2(w1,b1,w2,b2,xx):\n",
    "    z1=w1.dot(xx)+b1\n",
    "    A1=ReLU(z1)\n",
    "    z2=w2.dot(A1)+b2\n",
    "    A2=softmax(z2)\n",
    "    return z1,A1,z2,A2\n",
    "\n",
    "z1,A1,z2,A2=for_prop2(W1, b1, W2, b2,x_train)"
   ]
  },
  {
   "cell_type": "code",
   "execution_count": 17,
   "id": "78a0fa8f",
   "metadata": {},
   "outputs": [],
   "source": [
    "z1,A1,z2,A2=for_prop2(W1, b1, W2, b2,x_train)\n"
   ]
  },
  {
   "cell_type": "markdown",
   "id": "559de08f",
   "metadata": {},
   "source": [
    "### train_loss>>>>"
   ]
  },
  {
   "cell_type": "code",
   "execution_count": 18,
   "id": "f878786f",
   "metadata": {},
   "outputs": [
    {
     "data": {
      "text/plain": [
       "14318.397961360173"
      ]
     },
     "execution_count": 18,
     "metadata": {},
     "output_type": "execute_result"
    }
   ],
   "source": [
    "y_train = np.asarray(y_train)\n",
    "y_pred = np.asarray(A2)\n",
    "\n",
    "categorical_cross_entropy=-np.sum(y_train*np.log(y_pred+10**-100))\n",
    "categorical_cross_entropy\n",
    "\n",
    "#jacoblan=-y_train/(y_pred+10**100)\n",
    "categorical_cross_entropy"
   ]
  },
  {
   "cell_type": "code",
   "execution_count": 19,
   "id": "73717533",
   "metadata": {},
   "outputs": [
    {
     "data": {
      "text/plain": [
       "array([5784.49069024, 5873.01129983, 2660.89597129])"
      ]
     },
     "execution_count": 19,
     "metadata": {},
     "output_type": "execute_result"
    }
   ],
   "source": [
    "y_train.shape == y_pred.shape\n",
    "train_loss = -np.sum(y_train * np.log(y_pred), axis=-1)\n",
    "train_loss"
   ]
  },
  {
   "cell_type": "code",
   "execution_count": 20,
   "id": "b6961968",
   "metadata": {},
   "outputs": [],
   "source": [
    "### categorical_cross_entropy_function>>>>>>\n",
    "\n",
    "np.random.seed(42)\n",
    "def cross_Entropy(y_train, A2):                 # CE\n",
    "    return -np.sum(y_train * np.log(A2 + 10**-100))\n",
    "\n",
    "def cross_E_grad(y_true, y_pred):              # CE Jacobian\n",
    "    return -y_true/(y_pred + 10**-100)\n",
    "\n",
    "-np.sum(y_train * np.log(A2 + 10**-100))\n",
    "ss=-y_train/(A2 + 10**-100)"
   ]
  },
  {
   "cell_type": "code",
   "execution_count": null,
   "id": "bc6e7d4b",
   "metadata": {},
   "outputs": [],
   "source": []
  },
  {
   "cell_type": "code",
   "execution_count": null,
   "id": "c7399ab8",
   "metadata": {},
   "outputs": [],
   "source": []
  },
  {
   "cell_type": "code",
   "execution_count": null,
   "id": "161d15c8",
   "metadata": {},
   "outputs": [],
   "source": []
  },
  {
   "cell_type": "code",
   "execution_count": 21,
   "id": "675bd82b",
   "metadata": {},
   "outputs": [],
   "source": [
    "#W1, b1, W2, b2"
   ]
  },
  {
   "cell_type": "code",
   "execution_count": 22,
   "id": "3a2bc364",
   "metadata": {},
   "outputs": [],
   "source": [
    "def for_prop2(w1,b1,w2,b2,xx):\n",
    "    z1=w1.dot(xx)+b1\n",
    "    A1=ReLU(z1)\n",
    "    z2=w2.dot(A1)+b2\n",
    "    A2=softmax(z2)\n",
    "    return z1,A1,z2,A2"
   ]
  },
  {
   "cell_type": "code",
   "execution_count": 23,
   "id": "b25a1dfb",
   "metadata": {},
   "outputs": [],
   "source": [
    "def make_prdictions(x,W1,b1,W2,b2,):\n",
    "    _,_,_,A2=for_prop2(W1,b1,W2,b2,x)\n",
    "    pred=get_predictions(A2)\n",
    "    return pred"
   ]
  },
  {
   "cell_type": "code",
   "execution_count": 24,
   "id": "141d6cd3",
   "metadata": {},
   "outputs": [
    {
     "data": {
      "text/plain": [
       "array([1, 2, 2, 2, 2, 1, 2, 1, 2, 2, 2, 2, 2, 2, 2, 2, 2, 2, 2, 2, 1, 1,\n",
       "       2, 1, 1, 2, 2, 2, 2, 1], dtype=int64)"
      ]
     },
     "execution_count": 24,
     "metadata": {},
     "output_type": "execute_result"
    }
   ],
   "source": [
    "z1,A1,z2,A2=for_prop2(W1, b1, W2, b2,x_test)\n",
    "pred=make_prdictions(x_test,W1, b1, W2, b2)\n",
    "pred"
   ]
  },
  {
   "cell_type": "code",
   "execution_count": 25,
   "id": "506e4818",
   "metadata": {},
   "outputs": [
    {
     "data": {
      "text/plain": [
       "0.5666666666666667"
      ]
     },
     "execution_count": 25,
     "metadata": {},
     "output_type": "execute_result"
    }
   ],
   "source": [
    "get_accuracy=get_accuracy(pred,y_test)\n",
    "get_accuracy"
   ]
  },
  {
   "cell_type": "code",
   "execution_count": 26,
   "id": "e369ea91",
   "metadata": {},
   "outputs": [],
   "source": [
    "from sklearn.metrics import confusion_matrix\n",
    "def f1_score(y_train, y_pred):\n",
    "  \n",
    "    num_classes = len(np.unique(y_train))\n",
    "    confusion_matrix = np.zeros((3, 3))\n",
    "    for i in range(len(y_train)):\n",
    "        confusion_matrix[y_train[i], y_pred[i]] += 1\n",
    "    \n",
    "    # Compute the precision and recall for each class\n",
    "    precision = np.zeros(3)\n",
    "    recall = np.zeros(3)\n",
    "    for i in range(3):\n",
    "        tp = confusion_matrix[i, i]\n",
    "        fp = np.sum(confusion_matrix[:, i]) - tp\n",
    "        fn = np.sum(confusion_matrix[i, :]) - tp\n",
    "        precision[i] = tp / (tp + fp)\n",
    "        recall[i] = tp / (tp + fn)\n",
    "    \n",
    "    # Compute the F1 score for each class\n",
    "    f1_scores = 2 * precision * recall / (precision + recall)\n",
    "    \n",
    "    # Compute the weighted average of the F1 scores\n",
    "    weights = np.sum(confusion_matrix, axis=1)\n",
    "    weights /= np.sum(weights)\n",
    "    f1_weighted = np.sum(f1_scores * weights)\n",
    "    \n",
    "    return f1_weighted\n",
    "f1_score_multiclass(y_train, y_pred)\n",
    "precision = tp / (tp + fp)\n",
    "recall = tp / (tp + fn)\n",
    "f1 = 2 * precision * recall / (precision + recall)"
   ]
  },
  {
   "cell_type": "code",
   "execution_count": 31,
   "id": "16c0a497",
   "metadata": {},
   "outputs": [],
   "source": [
    "confusion_matrix = np.zeros((3, 3))"
   ]
  },
  {
   "cell_type": "code",
   "execution_count": 37,
   "id": "9ee525e8",
   "metadata": {},
   "outputs": [
    {
     "ename": "IndexError",
     "evalue": "arrays used as indices must be of integer (or boolean) type",
     "output_type": "error",
     "traceback": [
      "\u001b[1;31m---------------------------------------------------------------------------\u001b[0m",
      "\u001b[1;31mIndexError\u001b[0m                                Traceback (most recent call last)",
      "Cell \u001b[1;32mIn[37], line 2\u001b[0m\n\u001b[0;32m      1\u001b[0m \u001b[38;5;28;01mfor\u001b[39;00m i \u001b[38;5;129;01min\u001b[39;00m \u001b[38;5;28mrange\u001b[39m(\u001b[38;5;28mlen\u001b[39m(y_train)):\n\u001b[1;32m----> 2\u001b[0m     confusion_matrix[y_train[i], y_pred[i]] \u001b[38;5;241m+\u001b[39m\u001b[38;5;241m=\u001b[39m \u001b[38;5;241m1\u001b[39m\n",
      "\u001b[1;31mIndexError\u001b[0m: arrays used as indices must be of integer (or boolean) type"
     ]
    }
   ],
   "source": [
    "for i in range(len(y_train)):\n",
    "    confusion_matrix[y_train[i], y_pred[i]] += 1"
   ]
  },
  {
   "cell_type": "code",
   "execution_count": 38,
   "id": "b596d9c4",
   "metadata": {},
   "outputs": [
    {
     "data": {
      "text/plain": [
       "(119,)"
      ]
     },
     "execution_count": 38,
     "metadata": {},
     "output_type": "execute_result"
    }
   ],
   "source": [
    "y_train.shape"
   ]
  },
  {
   "cell_type": "code",
   "execution_count": 39,
   "id": "1b41ca9c",
   "metadata": {},
   "outputs": [
    {
     "data": {
      "text/plain": [
       "(3, 119)"
      ]
     },
     "execution_count": 39,
     "metadata": {},
     "output_type": "execute_result"
    }
   ],
   "source": [
    "y_pred.shape"
   ]
  },
  {
   "cell_type": "code",
   "execution_count": 40,
   "id": "8f42d5b3",
   "metadata": {},
   "outputs": [
    {
     "data": {
      "text/plain": [
       "array([[3.00837500e-20, 1.90647272e-20, 5.09894534e-22, 2.97080903e-20,\n",
       "        4.43579277e-22, 1.97669845e-21, 3.14865596e-20, 3.05760186e-20,\n",
       "        3.07654463e-22, 2.94685563e-20, 2.83072424e-20, 2.26869204e-20,\n",
       "        2.91515818e-20, 2.04890258e-22, 2.49702614e-22, 1.88263489e-22,\n",
       "        1.21533068e-20, 3.03665660e-22, 4.95941050e-22, 2.75378059e-20,\n",
       "        2.96452224e-20, 3.27378755e-20, 3.07449993e-20, 2.32639964e-20,\n",
       "        3.05083232e-20, 3.05772917e-20, 1.22653680e-20, 5.37831376e-22,\n",
       "        2.99294528e-20, 1.66713090e-20, 3.61420292e-22, 4.81046796e-22,\n",
       "        1.12685720e-20, 3.08805735e-20, 2.93795953e-20, 3.48477213e-22,\n",
       "        2.85071179e-20, 2.79961606e-20, 1.95308184e-20, 1.91605639e-20,\n",
       "        1.42079428e-20, 2.97826212e-20, 3.85170854e-22, 2.36400295e-20,\n",
       "        2.22275024e-20, 3.00412533e-20, 1.53156939e-20, 2.79821515e-20,\n",
       "        3.10423641e-20, 3.27507509e-22, 4.36073467e-22, 1.04491928e-22,\n",
       "        2.88955086e-20, 3.67467724e-22, 1.75642986e-20, 3.07857776e-20,\n",
       "        2.89554127e-20, 3.70789568e-22, 3.73792675e-22, 3.30745057e-20,\n",
       "        2.52441901e-22, 2.88397505e-20, 2.78798609e-20, 2.98601522e-20,\n",
       "        3.06909044e-20, 1.26587545e-20, 2.90048432e-20, 2.76824027e-20,\n",
       "        2.06101527e-20, 2.09351972e-22, 3.11026234e-20, 3.31457063e-22,\n",
       "        1.99300959e-20, 3.05307776e-20, 3.24240017e-22, 2.88373568e-20,\n",
       "        2.77945124e-22, 7.42848924e-22, 2.80176567e-20, 2.88369833e-20,\n",
       "        3.07129706e-20, 2.09704163e-20, 1.58313437e-22, 2.13020706e-20,\n",
       "        2.33476446e-22, 3.05083232e-20, 5.57361645e-22, 2.99108477e-20,\n",
       "        3.05368840e-20, 2.39395855e-22, 3.01048765e-20, 1.60228208e-22,\n",
       "        2.53312420e-20, 4.95941050e-22, 1.93422984e-20, 2.00652865e-20,\n",
       "        6.45034088e-22, 3.88652731e-22, 2.37838940e-20, 7.05610064e-22,\n",
       "        3.02512888e-20, 1.21368459e-20, 5.91229356e-22, 3.32245074e-20,\n",
       "        2.09163159e-20, 2.18434652e-20, 1.93360625e-20, 2.98375766e-20,\n",
       "        2.78490528e-22, 4.71079630e-22, 2.98008703e-20, 3.20952957e-20,\n",
       "        3.07914462e-20, 2.35588845e-20, 3.15669553e-20, 2.78348037e-20,\n",
       "        2.28416851e-20, 2.94541562e-20, 4.73393271e-22],\n",
       "       [5.84964947e-20, 3.56196781e-20, 1.40969781e-22, 5.97595605e-20,\n",
       "        1.03419065e-22, 6.73905836e-22, 5.24556707e-20, 5.62693092e-20,\n",
       "        7.31198785e-23, 6.14596221e-20, 6.76628399e-20, 5.08539510e-20,\n",
       "        4.61134531e-20, 3.93125532e-23, 5.60049334e-23, 3.51434826e-23,\n",
       "        1.42402193e-20, 6.18846304e-23, 1.15343787e-22, 7.10212566e-20,\n",
       "        6.05873081e-20, 4.77874694e-20, 5.55324932e-20, 4.28870623e-20,\n",
       "        5.65683775e-20, 5.62637062e-20, 2.00690699e-20, 1.24112858e-22,\n",
       "        5.92203184e-20, 3.06689675e-20, 6.64100065e-23, 1.11281553e-22,\n",
       "        1.25258411e-20, 5.49511961e-20, 6.19056332e-20, 7.55756344e-23,\n",
       "        5.44927487e-20, 5.79420692e-20, 4.23547578e-20, 4.34036130e-20,\n",
       "        1.94482769e-20, 5.99209716e-20, 8.14587462e-23, 4.57316847e-20,\n",
       "        4.00856214e-20, 5.86945935e-20, 1.93607906e-20, 6.95580757e-20,\n",
       "        5.42687215e-20, 7.03546134e-23, 9.39974696e-23, 1.61090770e-23,\n",
       "        6.44149446e-20, 8.15736822e-23, 3.63551275e-20, 5.53567363e-20,\n",
       "        5.74715120e-20, 8.11841078e-23, 8.97500109e-23, 4.66324779e-20,\n",
       "        5.13263554e-23, 6.47131903e-20, 6.74735388e-20, 5.95495520e-20,\n",
       "        5.27234890e-20, 2.07991427e-20, 6.38357544e-20, 7.13729776e-20,\n",
       "        3.86576088e-20, 4.04796777e-23, 5.40176032e-20, 6.44694375e-23,\n",
       "        3.11541214e-20, 4.69889807e-20, 6.99004846e-23, 5.22497115e-20,\n",
       "        6.59863724e-23, 2.06339176e-22, 6.93474496e-20, 6.47280433e-20,\n",
       "        5.56710947e-20, 3.91833900e-20, 2.33881517e-23, 3.88972417e-20,\n",
       "        4.39195823e-23, 5.65683775e-20, 1.50981033e-22, 5.93084534e-20,\n",
       "        5.64419258e-20, 4.75523694e-23, 5.83983661e-20, 2.73248083e-23,\n",
       "        4.43717802e-20, 1.15343787e-22, 3.39365755e-20, 4.17508257e-20,\n",
       "        1.62524488e-22, 8.10697207e-23, 4.14387341e-20, 2.15816241e-22,\n",
       "        4.14321705e-20, 1.74601122e-20, 1.39738355e-22, 4.61305423e-20,\n",
       "        4.00316898e-20, 3.80955293e-20, 4.08303427e-20, 5.96573648e-20,\n",
       "        6.00762976e-23, 1.20641475e-22, 5.98332526e-20, 5.01075923e-20,\n",
       "        5.53323668e-20, 4.04594974e-20, 5.21367301e-20, 5.34447220e-20,\n",
       "        4.35468419e-20, 6.15315080e-20, 1.02289292e-22],\n",
       "       [2.91752925e-20, 6.34822787e-19, 4.34013008e-06, 2.95433612e-20,\n",
       "        2.21618857e-05, 2.85750703e-10, 2.90616098e-20, 2.91347558e-20,\n",
       "        1.66305315e-04, 2.92269760e-20, 2.93278126e-20, 1.20719304e-19,\n",
       "        4.42120708e-20, 5.81905102e-03, 9.03520930e-04, 1.17829062e-02,\n",
       "        5.70250091e-17, 3.30284136e-04, 9.43644291e-06, 3.00821093e-20,\n",
       "        2.92120150e-20, 2.89647507e-20, 2.91210039e-20, 1.24464430e-19,\n",
       "        2.91402881e-20, 2.91346519e-20, 1.94727617e-17, 5.60860195e-06,\n",
       "        2.91881468e-20, 1.70795281e-18, 1.77539514e-04, 1.31720391e-05,\n",
       "        8.97100798e-17, 2.91100299e-20, 2.92345467e-20, 1.18778147e-04,\n",
       "        3.81386430e-20, 3.72957440e-20, 4.09177970e-19, 3.16490243e-19,\n",
       "        9.65505582e-18, 2.92004461e-20, 7.41659286e-05, 1.30976062e-19,\n",
       "        1.75634729e-19, 2.91788257e-20, 9.16238018e-18, 2.93568463e-20,\n",
       "        2.90970021e-20, 2.09948045e-04, 2.37385320e-05, 8.65468794e-01,\n",
       "        2.92761837e-20, 7.42791427e-05, 1.04628878e-18, 2.91176976e-20,\n",
       "        3.45328026e-20, 6.71987592e-05, 6.93457317e-05, 2.89393788e-20,\n",
       "        1.07107548e-03, 2.92810281e-20, 3.09235556e-20, 2.91939435e-20,\n",
       "        3.13627857e-20, 1.53778973e-17, 2.92667138e-20, 2.93839430e-20,\n",
       "        2.53664550e-19, 3.95725786e-03, 2.90921687e-20, 2.74351788e-04,\n",
       "        7.78737807e-19, 4.50313742e-20, 1.80794250e-04, 3.88359990e-20,\n",
       "        4.53556863e-04, 3.57785668e-07, 2.93536576e-20, 2.92812688e-20,\n",
       "        2.91236042e-20, 2.18606479e-19, 7.45435623e-02, 2.56457816e-19,\n",
       "        2.60300717e-03, 2.91402881e-20, 2.11704124e-06, 2.91897016e-20,\n",
       "        2.91379524e-20, 1.71273329e-03, 2.91735381e-20, 2.92412348e-02,\n",
       "        1.14368471e-19, 9.43644291e-06, 6.25299107e-19, 3.02967022e-19,\n",
       "        1.19734876e-06, 6.70963368e-05, 1.31878214e-19, 3.62792713e-07,\n",
       "        5.60752211e-20, 2.50339700e-17, 3.21648539e-06, 2.89281633e-20,\n",
       "        2.69098663e-19, 3.09183732e-19, 3.29747762e-19, 2.91958350e-20,\n",
       "        5.10388033e-04, 9.56850157e-06, 2.91989138e-20, 2.90139781e-20,\n",
       "        2.91172384e-20, 1.94686018e-19, 2.90552621e-20, 4.30764032e-20,\n",
       "        1.80184677e-19, 2.92281998e-20, 1.81106071e-05]])"
      ]
     },
     "execution_count": 40,
     "metadata": {},
     "output_type": "execute_result"
    }
   ],
   "source": [
    "y_pred"
   ]
  },
  {
   "cell_type": "code",
   "execution_count": null,
   "id": "6948d17b",
   "metadata": {},
   "outputs": [],
   "source": []
  },
  {
   "cell_type": "code",
   "execution_count": null,
   "id": "5da5d204",
   "metadata": {},
   "outputs": [],
   "source": []
  },
  {
   "cell_type": "code",
   "execution_count": null,
   "id": "b4607361",
   "metadata": {},
   "outputs": [],
   "source": []
  },
  {
   "cell_type": "code",
   "execution_count": null,
   "id": "8b4d8092",
   "metadata": {},
   "outputs": [],
   "source": []
  },
  {
   "cell_type": "code",
   "execution_count": null,
   "id": "3c043acf",
   "metadata": {},
   "outputs": [],
   "source": []
  },
  {
   "cell_type": "code",
   "execution_count": null,
   "id": "24426c52",
   "metadata": {},
   "outputs": [],
   "source": []
  },
  {
   "cell_type": "code",
   "execution_count": null,
   "id": "807dfbe1",
   "metadata": {},
   "outputs": [],
   "source": []
  },
  {
   "cell_type": "code",
   "execution_count": null,
   "id": "4bd5062f",
   "metadata": {},
   "outputs": [],
   "source": []
  },
  {
   "cell_type": "code",
   "execution_count": null,
   "id": "4e6cf54b",
   "metadata": {},
   "outputs": [],
   "source": []
  },
  {
   "cell_type": "code",
   "execution_count": null,
   "id": "f8ece67e",
   "metadata": {},
   "outputs": [],
   "source": []
  },
  {
   "cell_type": "code",
   "execution_count": null,
   "id": "33ee4223",
   "metadata": {},
   "outputs": [],
   "source": []
  }
 ],
 "metadata": {
  "kernelspec": {
   "display_name": "Python 3 (ipykernel)",
   "language": "python",
   "name": "python3"
  },
  "language_info": {
   "codemirror_mode": {
    "name": "ipython",
    "version": 3
   },
   "file_extension": ".py",
   "mimetype": "text/x-python",
   "name": "python",
   "nbconvert_exporter": "python",
   "pygments_lexer": "ipython3",
   "version": "3.10.9"
  }
 },
 "nbformat": 4,
 "nbformat_minor": 5
}
